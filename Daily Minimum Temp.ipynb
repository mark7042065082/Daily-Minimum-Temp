{
 "cells": [
  {
   "cell_type": "code",
   "execution_count": 1,
   "id": "49ac5a1e",
   "metadata": {},
   "outputs": [],
   "source": [
    "import pandas as pd\n",
    "import numpy as np\n",
    "import matplotlib.pyplot as plt\n",
    "import seaborn as sns\n",
    "from statsmodels.tsa.api import ExponentialSmoothing, SimpleExpSmoothing, Holt\n",
    "from pylab import rcParams\n",
    "rcParams[\"figure.figsize\"] = 20,5\n",
    "\n",
    "import warnings\n",
    "warnings.filterwarnings('ignore')"
   ]
  },
  {
   "cell_type": "code",
   "execution_count": 2,
   "id": "60d45fb1",
   "metadata": {},
   "outputs": [],
   "source": [
    "df= pd.read_csv('temp.csv')"
   ]
  },
  {
   "cell_type": "code",
   "execution_count": 3,
   "id": "8004bdd7",
   "metadata": {},
   "outputs": [
    {
     "data": {
      "text/html": [
       "<div>\n",
       "<style scoped>\n",
       "    .dataframe tbody tr th:only-of-type {\n",
       "        vertical-align: middle;\n",
       "    }\n",
       "\n",
       "    .dataframe tbody tr th {\n",
       "        vertical-align: top;\n",
       "    }\n",
       "\n",
       "    .dataframe thead th {\n",
       "        text-align: right;\n",
       "    }\n",
       "</style>\n",
       "<table border=\"1\" class=\"dataframe\">\n",
       "  <thead>\n",
       "    <tr style=\"text-align: right;\">\n",
       "      <th></th>\n",
       "      <th>Date</th>\n",
       "      <th>Daily minimum temp</th>\n",
       "    </tr>\n",
       "  </thead>\n",
       "  <tbody>\n",
       "    <tr>\n",
       "      <th>0</th>\n",
       "      <td>01-01-1981</td>\n",
       "      <td>20.7</td>\n",
       "    </tr>\n",
       "    <tr>\n",
       "      <th>1</th>\n",
       "      <td>02-01-1981</td>\n",
       "      <td>17.9</td>\n",
       "    </tr>\n",
       "    <tr>\n",
       "      <th>2</th>\n",
       "      <td>03-01-1981</td>\n",
       "      <td>18.8</td>\n",
       "    </tr>\n",
       "    <tr>\n",
       "      <th>3</th>\n",
       "      <td>04-01-1981</td>\n",
       "      <td>14.6</td>\n",
       "    </tr>\n",
       "    <tr>\n",
       "      <th>4</th>\n",
       "      <td>05-01-1981</td>\n",
       "      <td>15.8</td>\n",
       "    </tr>\n",
       "  </tbody>\n",
       "</table>\n",
       "</div>"
      ],
      "text/plain": [
       "         Date Daily minimum temp\n",
       "0  01-01-1981               20.7\n",
       "1  02-01-1981               17.9\n",
       "2  03-01-1981               18.8\n",
       "3  04-01-1981               14.6\n",
       "4  05-01-1981               15.8"
      ]
     },
     "execution_count": 3,
     "metadata": {},
     "output_type": "execute_result"
    }
   ],
   "source": [
    "#columns modified, \"Daily minimum temp\" = \" Daily minimum temperatures in Melbourne, 1981-1990\"\n",
    "df.head()"
   ]
  },
  {
   "cell_type": "code",
   "execution_count": 4,
   "id": "38d61f7d",
   "metadata": {},
   "outputs": [
    {
     "data": {
      "text/html": [
       "<div>\n",
       "<style scoped>\n",
       "    .dataframe tbody tr th:only-of-type {\n",
       "        vertical-align: middle;\n",
       "    }\n",
       "\n",
       "    .dataframe tbody tr th {\n",
       "        vertical-align: top;\n",
       "    }\n",
       "\n",
       "    .dataframe thead th {\n",
       "        text-align: right;\n",
       "    }\n",
       "</style>\n",
       "<table border=\"1\" class=\"dataframe\">\n",
       "  <thead>\n",
       "    <tr style=\"text-align: right;\">\n",
       "      <th></th>\n",
       "      <th>Date</th>\n",
       "      <th>Daily minimum temp</th>\n",
       "    </tr>\n",
       "  </thead>\n",
       "  <tbody>\n",
       "    <tr>\n",
       "      <th>count</th>\n",
       "      <td>3650</td>\n",
       "      <td>3650</td>\n",
       "    </tr>\n",
       "    <tr>\n",
       "      <th>unique</th>\n",
       "      <td>3650</td>\n",
       "      <td>230</td>\n",
       "    </tr>\n",
       "    <tr>\n",
       "      <th>top</th>\n",
       "      <td>01-01-1981</td>\n",
       "      <td>11</td>\n",
       "    </tr>\n",
       "    <tr>\n",
       "      <th>freq</th>\n",
       "      <td>1</td>\n",
       "      <td>51</td>\n",
       "    </tr>\n",
       "  </tbody>\n",
       "</table>\n",
       "</div>"
      ],
      "text/plain": [
       "              Date Daily minimum temp\n",
       "count         3650               3650\n",
       "unique        3650                230\n",
       "top     01-01-1981                 11\n",
       "freq             1                 51"
      ]
     },
     "execution_count": 4,
     "metadata": {},
     "output_type": "execute_result"
    }
   ],
   "source": [
    "df.describe()"
   ]
  },
  {
   "cell_type": "code",
   "execution_count": 5,
   "id": "25a8f5e6",
   "metadata": {},
   "outputs": [
    {
     "data": {
      "text/html": [
       "<div>\n",
       "<style scoped>\n",
       "    .dataframe tbody tr th:only-of-type {\n",
       "        vertical-align: middle;\n",
       "    }\n",
       "\n",
       "    .dataframe tbody tr th {\n",
       "        vertical-align: top;\n",
       "    }\n",
       "\n",
       "    .dataframe thead th {\n",
       "        text-align: right;\n",
       "    }\n",
       "</style>\n",
       "<table border=\"1\" class=\"dataframe\">\n",
       "  <thead>\n",
       "    <tr style=\"text-align: right;\">\n",
       "      <th></th>\n",
       "      <th>Date</th>\n",
       "      <th>Temp</th>\n",
       "    </tr>\n",
       "  </thead>\n",
       "  <tbody>\n",
       "    <tr>\n",
       "      <th>0</th>\n",
       "      <td>01-01-1981</td>\n",
       "      <td>20.7</td>\n",
       "    </tr>\n",
       "    <tr>\n",
       "      <th>1</th>\n",
       "      <td>02-01-1981</td>\n",
       "      <td>17.9</td>\n",
       "    </tr>\n",
       "    <tr>\n",
       "      <th>2</th>\n",
       "      <td>03-01-1981</td>\n",
       "      <td>18.8</td>\n",
       "    </tr>\n",
       "    <tr>\n",
       "      <th>3</th>\n",
       "      <td>04-01-1981</td>\n",
       "      <td>14.6</td>\n",
       "    </tr>\n",
       "    <tr>\n",
       "      <th>4</th>\n",
       "      <td>05-01-1981</td>\n",
       "      <td>15.8</td>\n",
       "    </tr>\n",
       "  </tbody>\n",
       "</table>\n",
       "</div>"
      ],
      "text/plain": [
       "         Date  Temp\n",
       "0  01-01-1981  20.7\n",
       "1  02-01-1981  17.9\n",
       "2  03-01-1981  18.8\n",
       "3  04-01-1981  14.6\n",
       "4  05-01-1981  15.8"
      ]
     },
     "execution_count": 5,
     "metadata": {},
     "output_type": "execute_result"
    }
   ],
   "source": [
    "df = df.rename(columns={'Daily minimum temp' : 'Temp'})\n",
    "df.head()"
   ]
  },
  {
   "cell_type": "code",
   "execution_count": 6,
   "id": "1d11f4d4",
   "metadata": {},
   "outputs": [
    {
     "name": "stdout",
     "output_type": "stream",
     "text": [
      "<class 'pandas.core.frame.DataFrame'>\n",
      "RangeIndex: 3650 entries, 0 to 3649\n",
      "Data columns (total 2 columns):\n",
      " #   Column  Non-Null Count  Dtype \n",
      "---  ------  --------------  ----- \n",
      " 0   Date    3650 non-null   object\n",
      " 1   Temp    3650 non-null   object\n",
      "dtypes: object(2)\n",
      "memory usage: 57.2+ KB\n"
     ]
    }
   ],
   "source": [
    "df.info()"
   ]
  },
  {
   "cell_type": "code",
   "execution_count": 7,
   "id": "271b6023",
   "metadata": {},
   "outputs": [
    {
     "data": {
      "text/plain": [
       "array(['20.7', '17.9', '18.8', '14.6', '15.8', '17.4', '21.8', '20',\n",
       "       '16.2', '13.3', '16.7', '21.5', '25', '20.6', '24.8', '17.7',\n",
       "       '15.5', '18.2', '12.1', '14.4', '16', '16.5', '18.7', '19.4',\n",
       "       '17.2', '15.1', '15.4', '15.3', '21.9', '19.9', '16.6', '16.8',\n",
       "       '17.1', '15', '13.7', '13.9', '18.3', '22', '22.1', '21.2', '18.4',\n",
       "       '16.1', '15.7', '18.5', '16.9', '17.5', '17.8', '18.6', '17',\n",
       "       '14.3', '11.4', '16.3', '11.8', '12.2', '14.7', '11.3', '10.6',\n",
       "       '11.7', '14.2', '11.2', '8.1', '8', '8.8', '13.4', '10.9', '11',\n",
       "       '14.5', '18.1', '10', '14.9', '15.9', '13', '7.6', '11.5', '13.5',\n",
       "       '12.4', '13.2', '13.8', '9', '9.8', '8.9', '7.4', '9.9', '9.3',\n",
       "       '8.6', '11.9', '14', '12', '10.5', '10.7', '10.1', '5.3', '6.6',\n",
       "       '8.5', '5.9', '3.2', '2.1', '3.4', '5.4', '9.6', '12.3', '12.6',\n",
       "       '12.8', '11.6', '5.7', '7.1', '2.5', '3.5', '4.6', '7.7', '10.4',\n",
       "       '9.2', '6.1', '2.7', '4.3', '6.3', '3.8', '4.4', '4.8', '5.8',\n",
       "       '6.2', '7.3', '10.2', '9.5', '6.5', '7', '8.3', '6.8', '7.2', '5',\n",
       "       '6.9', '5.2', '3', '5.6', '7.9', '10.3', '9.7', '12.5', '3.9', '6',\n",
       "       '5.5', '7.5', '7.8', '14.1', '12.9', '9.1', '8.4', '13.6', '9.4',\n",
       "       '14.8', '16.4', '15.6', '11.1', '15.2', '19.1', '22.2', '24', '18',\n",
       "       '19.7', '25.2', '20.5', '19.3', '13.1', '19.5', '22.7', '19.2',\n",
       "       '22.8', '26.3', '8.7', '10.8', '3.7', '3.1', '0', '1.6', '2.6',\n",
       "       '2.3', '4.5', '8.2', '4', '1.3', '0.8', '4.2', '2.4', '2.8', '3.3',\n",
       "       '?0.2', '?0.8', '0.9', '2.2', '5.1', '12.7', '3.6', '6.7', '4.7',\n",
       "       '17.3', '20.3', '22.5', '20.4', '20.1', '21.1', '17.6', '4.9',\n",
       "       '1.5', '4.1', '0.7', '6.4', '18.9', '?0.1', '19', '24.3', '21',\n",
       "       '22.4', '21.7', '21.4', '0.6', '0.3', '1.4', '1.7', '2.9', '20.2',\n",
       "       '23', '24.1', '20.9', '23.4', '23.9', '19.8', '19.6', '0.5', '1.8',\n",
       "       '21.6'], dtype=object)"
      ]
     },
     "execution_count": 7,
     "metadata": {},
     "output_type": "execute_result"
    }
   ],
   "source": [
    "temperature_values = df['Temp'].unique()\n",
    "temperature_values"
   ]
  },
  {
   "cell_type": "code",
   "execution_count": 8,
   "id": "ef89681c",
   "metadata": {},
   "outputs": [
    {
     "data": {
      "text/html": [
       "<div>\n",
       "<style scoped>\n",
       "    .dataframe tbody tr th:only-of-type {\n",
       "        vertical-align: middle;\n",
       "    }\n",
       "\n",
       "    .dataframe tbody tr th {\n",
       "        vertical-align: top;\n",
       "    }\n",
       "\n",
       "    .dataframe thead th {\n",
       "        text-align: right;\n",
       "    }\n",
       "</style>\n",
       "<table border=\"1\" class=\"dataframe\">\n",
       "  <thead>\n",
       "    <tr style=\"text-align: right;\">\n",
       "      <th></th>\n",
       "      <th>Date</th>\n",
       "      <th>Temp</th>\n",
       "    </tr>\n",
       "  </thead>\n",
       "  <tbody>\n",
       "    <tr>\n",
       "      <th>565</th>\n",
       "      <td>20-07-1982</td>\n",
       "      <td>?0.2</td>\n",
       "    </tr>\n",
       "    <tr>\n",
       "      <th>566</th>\n",
       "      <td>21-07-1982</td>\n",
       "      <td>?0.8</td>\n",
       "    </tr>\n",
       "    <tr>\n",
       "      <th>1290</th>\n",
       "      <td>14-07-1984</td>\n",
       "      <td>?0.1</td>\n",
       "    </tr>\n",
       "  </tbody>\n",
       "</table>\n",
       "</div>"
      ],
      "text/plain": [
       "            Date  Temp\n",
       "565   20-07-1982  ?0.2\n",
       "566   21-07-1982  ?0.8\n",
       "1290  14-07-1984  ?0.1"
      ]
     },
     "execution_count": 8,
     "metadata": {},
     "output_type": "execute_result"
    }
   ],
   "source": [
    "#checking for non convertable data\n",
    "notdigit = df[~df['Temp'].str[0].str.isdigit()]\n",
    "notdigit"
   ]
  },
  {
   "cell_type": "markdown",
   "id": "b13ff4ce",
   "metadata": {},
   "source": [
    "#### No Null Values, Coloumn renamed, Temp is Object not Float, Starting EDA and Visualization "
   ]
  },
  {
   "cell_type": "code",
   "execution_count": 9,
   "id": "2397e85e",
   "metadata": {},
   "outputs": [],
   "source": [
    "#converting Temp to Float\n",
    "df['Temp'] = df['Temp'].apply(lambda x:x.replace('?',\"\"))\n",
    "df['Temp'] = df['Temp'].astype(float)"
   ]
  },
  {
   "cell_type": "code",
   "execution_count": 10,
   "id": "9c12a031",
   "metadata": {},
   "outputs": [],
   "source": [
    "df['Date'] = pd.to_datetime(df['Date'])"
   ]
  },
  {
   "cell_type": "code",
   "execution_count": 11,
   "id": "9eeea248",
   "metadata": {},
   "outputs": [
    {
     "name": "stdout",
     "output_type": "stream",
     "text": [
      "<class 'pandas.core.frame.DataFrame'>\n",
      "RangeIndex: 3650 entries, 0 to 3649\n",
      "Data columns (total 2 columns):\n",
      " #   Column  Non-Null Count  Dtype         \n",
      "---  ------  --------------  -----         \n",
      " 0   Date    3650 non-null   datetime64[ns]\n",
      " 1   Temp    3650 non-null   float64       \n",
      "dtypes: datetime64[ns](1), float64(1)\n",
      "memory usage: 57.2 KB\n"
     ]
    }
   ],
   "source": [
    "#checking info, coverted to Float\n",
    "df.info()"
   ]
  },
  {
   "cell_type": "code",
   "execution_count": 12,
   "id": "75c8cbe4",
   "metadata": {},
   "outputs": [],
   "source": [
    "# Graphs Moving Average and Mean: "
   ]
  },
  {
   "cell_type": "code",
   "execution_count": 13,
   "id": "b670dcae",
   "metadata": {},
   "outputs": [
    {
     "data": {
      "image/png": "[encoded data removed]",
      "text/plain": [
       "<Figure size 1440x360 with 1 Axes>"
      ]
     },
     "metadata": {
      "needs_background": "light"
     },
     "output_type": "display_data"
    }
   ],
   "source": [
    "plt.plot(df[1:50][\"Temp\"])\n",
    "plt.xticks(rotation=30)\n",
    "plt.show()"
   ]
  },
  {
   "cell_type": "code",
   "execution_count": 14,
   "id": "727b2300",
   "metadata": {},
   "outputs": [
    {
     "data": {
      "image/png": "[encoded data removed]",
      "text/plain": [
       "<Figure size 1440x360 with 1 Axes>"
      ]
     },
     "metadata": {
      "needs_background": "light"
     },
     "output_type": "display_data"
    }
   ],
   "source": [
    "rollingseries = df[1:50].rolling(window=5)\n",
    "rollingmean = rollingseries.mean() #we can compute any statistical measure\n",
    "#print(rollingmean.head(10))\n",
    "rollingmean.plot(color=\"red\")\n",
    "plt.show()\n"
   ]
  },
  {
   "cell_type": "code",
   "execution_count": 15,
   "id": "6fdc881b",
   "metadata": {},
   "outputs": [
    {
     "data": {
      "image/png": "[encoded data removed]",
      "text/plain": [
       "<Figure size 864x432 with 1 Axes>"
      ]
     },
     "metadata": {
      "needs_background": "light"
     },
     "output_type": "display_data"
    }
   ],
   "source": [
    "plt.figure(figsize=(12,6))\n",
    "sns.lineplot(x=df['Date'], y=df['Temp'])\n",
    "plt.grid(axis='x')\n",
    "plt.grid(axis='y', alpha=0.3)\n",
    "plt.show()"
   ]
  },
  {
   "cell_type": "markdown",
   "id": "500e9ae4",
   "metadata": {},
   "source": [
    "##### Trend:"
   ]
  },
  {
   "cell_type": "code",
   "execution_count": 16,
   "id": "759627c3",
   "metadata": {},
   "outputs": [
    {
     "data": {
      "text/html": [
       "<div>\n",
       "<style scoped>\n",
       "    .dataframe tbody tr th:only-of-type {\n",
       "        vertical-align: middle;\n",
       "    }\n",
       "\n",
       "    .dataframe tbody tr th {\n",
       "        vertical-align: top;\n",
       "    }\n",
       "\n",
       "    .dataframe thead th {\n",
       "        text-align: right;\n",
       "    }\n",
       "</style>\n",
       "<table border=\"1\" class=\"dataframe\">\n",
       "  <thead>\n",
       "    <tr style=\"text-align: right;\">\n",
       "      <th></th>\n",
       "      <th>Date</th>\n",
       "      <th>Temp</th>\n",
       "      <th>Trend</th>\n",
       "    </tr>\n",
       "  </thead>\n",
       "  <tbody>\n",
       "    <tr>\n",
       "      <th>0</th>\n",
       "      <td>1981-01-01</td>\n",
       "      <td>20.7</td>\n",
       "      <td>12.591767</td>\n",
       "    </tr>\n",
       "    <tr>\n",
       "      <th>1</th>\n",
       "      <td>1981-02-01</td>\n",
       "      <td>17.9</td>\n",
       "      <td>12.587840</td>\n",
       "    </tr>\n",
       "    <tr>\n",
       "      <th>2</th>\n",
       "      <td>1981-03-01</td>\n",
       "      <td>18.8</td>\n",
       "      <td>12.583918</td>\n",
       "    </tr>\n",
       "    <tr>\n",
       "      <th>3</th>\n",
       "      <td>1981-04-01</td>\n",
       "      <td>14.6</td>\n",
       "      <td>12.580001</td>\n",
       "    </tr>\n",
       "    <tr>\n",
       "      <th>4</th>\n",
       "      <td>1981-05-01</td>\n",
       "      <td>15.8</td>\n",
       "      <td>12.576088</td>\n",
       "    </tr>\n",
       "  </tbody>\n",
       "</table>\n",
       "</div>"
      ],
      "text/plain": [
       "        Date  Temp      Trend\n",
       "0 1981-01-01  20.7  12.591767\n",
       "1 1981-02-01  17.9  12.587840\n",
       "2 1981-03-01  18.8  12.583918\n",
       "3 1981-04-01  14.6  12.580001\n",
       "4 1981-05-01  15.8  12.576088"
      ]
     },
     "execution_count": 16,
     "metadata": {},
     "output_type": "execute_result"
    }
   ],
   "source": [
    "\n",
    "def get_trend(timeseries, deg=3):\n",
    "  x = list(range(len(timeseries)))\n",
    "  y = timeseries.values\n",
    "  coef = np.polyfit(x, y, deg)\n",
    "  trend = np.poly1d(coef)(x)\n",
    "  return pd.Series(data=trend, index = timeseries.index)\n",
    "\n",
    "df['Trend'] = get_trend(df['Temp'])\n",
    "df.head()"
   ]
  },
  {
   "cell_type": "code",
   "execution_count": 17,
   "id": "09953cbb",
   "metadata": {},
   "outputs": [
    {
     "data": {
      "image/png": "[encoded data removed]",
      "text/plain": [
       "<Figure size 1008x432 with 1 Axes>"
      ]
     },
     "metadata": {
      "needs_background": "light"
     },
     "output_type": "display_data"
    }
   ],
   "source": [
    "plt.figure(figsize=(14,6))\n",
    "sns.lineplot(x= df['Date'], y= df['Temp'], alpha=0.5, label='Temp')\n",
    "sns.lineplot(x=df['Date'], y= df['Trend'], label='Trend')\n",
    "plt.grid(axis='x')\n",
    "plt.legend()\n",
    "plt.show()"
   ]
  },
  {
   "cell_type": "code",
   "execution_count": 18,
   "id": "06883e2e",
   "metadata": {},
   "outputs": [
    {
     "data": {
      "text/html": [
       "<div>\n",
       "<style scoped>\n",
       "    .dataframe tbody tr th:only-of-type {\n",
       "        vertical-align: middle;\n",
       "    }\n",
       "\n",
       "    .dataframe tbody tr th {\n",
       "        vertical-align: top;\n",
       "    }\n",
       "\n",
       "    .dataframe thead th {\n",
       "        text-align: right;\n",
       "    }\n",
       "</style>\n",
       "<table border=\"1\" class=\"dataframe\">\n",
       "  <thead>\n",
       "    <tr style=\"text-align: right;\">\n",
       "      <th></th>\n",
       "      <th>Date</th>\n",
       "      <th>Temp</th>\n",
       "      <th>Trend</th>\n",
       "      <th>Temp Last month</th>\n",
       "      <th>Temp Last 2 month</th>\n",
       "      <th>Temp Last 3 month</th>\n",
       "    </tr>\n",
       "  </thead>\n",
       "  <tbody>\n",
       "    <tr>\n",
       "      <th>0</th>\n",
       "      <td>1981-01-01</td>\n",
       "      <td>20.7</td>\n",
       "      <td>12.591767</td>\n",
       "      <td>NaN</td>\n",
       "      <td>NaN</td>\n",
       "      <td>NaN</td>\n",
       "    </tr>\n",
       "    <tr>\n",
       "      <th>1</th>\n",
       "      <td>1981-02-01</td>\n",
       "      <td>17.9</td>\n",
       "      <td>12.587840</td>\n",
       "      <td>20.7</td>\n",
       "      <td>NaN</td>\n",
       "      <td>NaN</td>\n",
       "    </tr>\n",
       "    <tr>\n",
       "      <th>2</th>\n",
       "      <td>1981-03-01</td>\n",
       "      <td>18.8</td>\n",
       "      <td>12.583918</td>\n",
       "      <td>17.9</td>\n",
       "      <td>20.7</td>\n",
       "      <td>NaN</td>\n",
       "    </tr>\n",
       "    <tr>\n",
       "      <th>3</th>\n",
       "      <td>1981-04-01</td>\n",
       "      <td>14.6</td>\n",
       "      <td>12.580001</td>\n",
       "      <td>18.8</td>\n",
       "      <td>17.9</td>\n",
       "      <td>20.7</td>\n",
       "    </tr>\n",
       "    <tr>\n",
       "      <th>4</th>\n",
       "      <td>1981-05-01</td>\n",
       "      <td>15.8</td>\n",
       "      <td>12.576088</td>\n",
       "      <td>14.6</td>\n",
       "      <td>18.8</td>\n",
       "      <td>17.9</td>\n",
       "    </tr>\n",
       "    <tr>\n",
       "      <th>...</th>\n",
       "      <td>...</td>\n",
       "      <td>...</td>\n",
       "      <td>...</td>\n",
       "      <td>...</td>\n",
       "      <td>...</td>\n",
       "      <td>...</td>\n",
       "    </tr>\n",
       "    <tr>\n",
       "      <th>3645</th>\n",
       "      <td>1990-12-27</td>\n",
       "      <td>14.0</td>\n",
       "      <td>10.938017</td>\n",
       "      <td>14.6</td>\n",
       "      <td>12.9</td>\n",
       "      <td>10.0</td>\n",
       "    </tr>\n",
       "    <tr>\n",
       "      <th>3646</th>\n",
       "      <td>1990-12-28</td>\n",
       "      <td>13.6</td>\n",
       "      <td>10.936019</td>\n",
       "      <td>14.0</td>\n",
       "      <td>14.6</td>\n",
       "      <td>12.9</td>\n",
       "    </tr>\n",
       "    <tr>\n",
       "      <th>3647</th>\n",
       "      <td>1990-12-29</td>\n",
       "      <td>13.5</td>\n",
       "      <td>10.934017</td>\n",
       "      <td>13.6</td>\n",
       "      <td>14.0</td>\n",
       "      <td>14.6</td>\n",
       "    </tr>\n",
       "    <tr>\n",
       "      <th>3648</th>\n",
       "      <td>1990-12-30</td>\n",
       "      <td>15.7</td>\n",
       "      <td>10.932012</td>\n",
       "      <td>13.5</td>\n",
       "      <td>13.6</td>\n",
       "      <td>14.0</td>\n",
       "    </tr>\n",
       "    <tr>\n",
       "      <th>3649</th>\n",
       "      <td>1990-12-31</td>\n",
       "      <td>13.0</td>\n",
       "      <td>10.930003</td>\n",
       "      <td>15.7</td>\n",
       "      <td>13.5</td>\n",
       "      <td>13.6</td>\n",
       "    </tr>\n",
       "  </tbody>\n",
       "</table>\n",
       "<p>3650 rows × 6 columns</p>\n",
       "</div>"
      ],
      "text/plain": [
       "           Date  Temp      Trend  Temp Last month  Temp Last 2 month  \\\n",
       "0    1981-01-01  20.7  12.591767              NaN                NaN   \n",
       "1    1981-02-01  17.9  12.587840             20.7                NaN   \n",
       "2    1981-03-01  18.8  12.583918             17.9               20.7   \n",
       "3    1981-04-01  14.6  12.580001             18.8               17.9   \n",
       "4    1981-05-01  15.8  12.576088             14.6               18.8   \n",
       "...         ...   ...        ...              ...                ...   \n",
       "3645 1990-12-27  14.0  10.938017             14.6               12.9   \n",
       "3646 1990-12-28  13.6  10.936019             14.0               14.6   \n",
       "3647 1990-12-29  13.5  10.934017             13.6               14.0   \n",
       "3648 1990-12-30  15.7  10.932012             13.5               13.6   \n",
       "3649 1990-12-31  13.0  10.930003             15.7               13.5   \n",
       "\n",
       "      Temp Last 3 month  \n",
       "0                   NaN  \n",
       "1                   NaN  \n",
       "2                   NaN  \n",
       "3                  20.7  \n",
       "4                  17.9  \n",
       "...                 ...  \n",
       "3645               10.0  \n",
       "3646               12.9  \n",
       "3647               14.6  \n",
       "3648               14.0  \n",
       "3649               13.6  \n",
       "\n",
       "[3650 rows x 6 columns]"
      ]
     },
     "execution_count": 18,
     "metadata": {},
     "output_type": "execute_result"
    }
   ],
   "source": [
    "df['Temp Last month']=df['Temp'].shift(+1)\n",
    "df['Temp Last 2 month']=df['Temp'].shift(+2)\n",
    "df['Temp Last 3 month']=df['Temp'].shift(+3)\n",
    "df"
   ]
  },
  {
   "cell_type": "code",
   "execution_count": 20,
   "id": "a75c38bb",
   "metadata": {},
   "outputs": [],
   "source": [
    "df=df.dropna()"
   ]
  },
  {
   "cell_type": "code",
   "execution_count": 21,
   "id": "c5238aa9",
   "metadata": {},
   "outputs": [
    {
     "data": {
      "text/html": [
       "<div>\n",
       "<style scoped>\n",
       "    .dataframe tbody tr th:only-of-type {\n",
       "        vertical-align: middle;\n",
       "    }\n",
       "\n",
       "    .dataframe tbody tr th {\n",
       "        vertical-align: top;\n",
       "    }\n",
       "\n",
       "    .dataframe thead th {\n",
       "        text-align: right;\n",
       "    }\n",
       "</style>\n",
       "<table border=\"1\" class=\"dataframe\">\n",
       "  <thead>\n",
       "    <tr style=\"text-align: right;\">\n",
       "      <th></th>\n",
       "      <th>Date</th>\n",
       "      <th>Temp Last month</th>\n",
       "      <th>Temp Last 2 month</th>\n",
       "      <th>Temp Last 3 month</th>\n",
       "    </tr>\n",
       "  </thead>\n",
       "  <tbody>\n",
       "    <tr>\n",
       "      <th>3</th>\n",
       "      <td>1981-04-01</td>\n",
       "      <td>18.8</td>\n",
       "      <td>17.9</td>\n",
       "      <td>20.7</td>\n",
       "    </tr>\n",
       "    <tr>\n",
       "      <th>4</th>\n",
       "      <td>1981-05-01</td>\n",
       "      <td>14.6</td>\n",
       "      <td>18.8</td>\n",
       "      <td>17.9</td>\n",
       "    </tr>\n",
       "    <tr>\n",
       "      <th>5</th>\n",
       "      <td>1981-06-01</td>\n",
       "      <td>15.8</td>\n",
       "      <td>14.6</td>\n",
       "      <td>18.8</td>\n",
       "    </tr>\n",
       "    <tr>\n",
       "      <th>6</th>\n",
       "      <td>1981-07-01</td>\n",
       "      <td>15.8</td>\n",
       "      <td>15.8</td>\n",
       "      <td>14.6</td>\n",
       "    </tr>\n",
       "    <tr>\n",
       "      <th>7</th>\n",
       "      <td>1981-08-01</td>\n",
       "      <td>15.8</td>\n",
       "      <td>15.8</td>\n",
       "      <td>15.8</td>\n",
       "    </tr>\n",
       "    <tr>\n",
       "      <th>...</th>\n",
       "      <td>...</td>\n",
       "      <td>...</td>\n",
       "      <td>...</td>\n",
       "      <td>...</td>\n",
       "    </tr>\n",
       "    <tr>\n",
       "      <th>3645</th>\n",
       "      <td>1990-12-27</td>\n",
       "      <td>14.6</td>\n",
       "      <td>12.9</td>\n",
       "      <td>10.0</td>\n",
       "    </tr>\n",
       "    <tr>\n",
       "      <th>3646</th>\n",
       "      <td>1990-12-28</td>\n",
       "      <td>14.0</td>\n",
       "      <td>14.6</td>\n",
       "      <td>12.9</td>\n",
       "    </tr>\n",
       "    <tr>\n",
       "      <th>3647</th>\n",
       "      <td>1990-12-29</td>\n",
       "      <td>13.6</td>\n",
       "      <td>14.0</td>\n",
       "      <td>14.6</td>\n",
       "    </tr>\n",
       "    <tr>\n",
       "      <th>3648</th>\n",
       "      <td>1990-12-30</td>\n",
       "      <td>13.5</td>\n",
       "      <td>13.6</td>\n",
       "      <td>14.0</td>\n",
       "    </tr>\n",
       "    <tr>\n",
       "      <th>3649</th>\n",
       "      <td>1990-12-31</td>\n",
       "      <td>15.7</td>\n",
       "      <td>13.5</td>\n",
       "      <td>13.6</td>\n",
       "    </tr>\n",
       "  </tbody>\n",
       "</table>\n",
       "<p>3647 rows × 4 columns</p>\n",
       "</div>"
      ],
      "text/plain": [
       "           Date  Temp Last month  Temp Last 2 month  Temp Last 3 month\n",
       "3    1981-04-01             18.8               17.9               20.7\n",
       "4    1981-05-01             14.6               18.8               17.9\n",
       "5    1981-06-01             15.8               14.6               18.8\n",
       "6    1981-07-01             15.8               15.8               14.6\n",
       "7    1981-08-01             15.8               15.8               15.8\n",
       "...         ...              ...                ...                ...\n",
       "3645 1990-12-27             14.6               12.9               10.0\n",
       "3646 1990-12-28             14.0               14.6               12.9\n",
       "3647 1990-12-29             13.6               14.0               14.6\n",
       "3648 1990-12-30             13.5               13.6               14.0\n",
       "3649 1990-12-31             15.7               13.5               13.6\n",
       "\n",
       "[3647 rows x 4 columns]"
      ]
     },
     "execution_count": 21,
     "metadata": {},
     "output_type": "execute_result"
    }
   ],
   "source": [
    "X=df.drop(columns=['Trend','Temp'])\n",
    "X"
   ]
  },
  {
   "cell_type": "code",
   "execution_count": 27,
   "id": "aa1b1d44",
   "metadata": {},
   "outputs": [
    {
     "data": {
      "text/plain": [
       "array([[18.8, 20.7, 20.7],\n",
       "       [14.6, 17.9, 17.9],\n",
       "       [15.8, 18.8, 18.8],\n",
       "       ...,\n",
       "       [13.6, 14.6, 14.6],\n",
       "       [13.5, 14. , 14. ],\n",
       "       [15.7, 13.6, 13.6]])"
      ]
     },
     "execution_count": 27,
     "metadata": {},
     "output_type": "execute_result"
    }
   ],
   "source": [
    "x1,x2,x3 = df['Temp Last month'], df['Temp Last 2 month'], df['Temp Last 3 month']\n",
    "x1,x2,x3= np.array(x1),np.array(x2),np.array(x3)\n",
    "x1,x2,x3= x1.reshape(-1,1),x3.reshape(-1,1),x3.reshape(-1,1)\n",
    "X=np.concatenate((x1,x2,x3),axis=1)\n",
    "X\n"
   ]
  },
  {
   "cell_type": "code",
   "execution_count": 22,
   "id": "34c40b68",
   "metadata": {},
   "outputs": [
    {
     "data": {
      "text/plain": [
       "3       14.6\n",
       "4       15.8\n",
       "5       15.8\n",
       "6       15.8\n",
       "7       17.4\n",
       "        ... \n",
       "3645    14.0\n",
       "3646    13.6\n",
       "3647    13.5\n",
       "3648    15.7\n",
       "3649    13.0\n",
       "Name: Temp, Length: 3647, dtype: float64"
      ]
     },
     "execution_count": 22,
     "metadata": {},
     "output_type": "execute_result"
    }
   ],
   "source": [
    "y = df['Temp']\n",
    "y"
   ]
  },
  {
   "cell_type": "code",
   "execution_count": 26,
   "id": "51da6fae",
   "metadata": {},
   "outputs": [
    {
     "data": {
      "text/plain": [
       "array([14.6, 15.8, 15.8, ..., 13.5, 15.7, 13. ])"
      ]
     },
     "execution_count": 26,
     "metadata": {},
     "output_type": "execute_result"
    }
   ],
   "source": [
    "y1=df['Temp']\n",
    "y1=np.array(y1)\n",
    "y1"
   ]
  },
  {
   "cell_type": "code",
   "execution_count": 28,
   "id": "cb266474",
   "metadata": {},
   "outputs": [
    {
     "data": {
      "text/plain": [
       "((2917, 3), (2917,), (730, 3), (730,))"
      ]
     },
     "execution_count": 28,
     "metadata": {},
     "output_type": "execute_result"
    }
   ],
   "source": [
    "from sklearn.model_selection import train_test_split\n",
    "X_train, X_test, y1_train, y1_test = train_test_split(X, y1, train_size=0.8 , random_state=100)\n",
    "X_train.shape,y1_train.shape,X_test.shape,y1_test.shape"
   ]
  },
  {
   "cell_type": "code",
   "execution_count": 29,
   "id": "6053f593",
   "metadata": {},
   "outputs": [],
   "source": [
    "from sklearn.linear_model import LinearRegression\n",
    "lr =LinearRegression()"
   ]
  },
  {
   "cell_type": "code",
   "execution_count": 30,
   "id": "710b7fa9",
   "metadata": {},
   "outputs": [
    {
     "data": {
      "text/plain": [
       "LinearRegression()"
      ]
     },
     "execution_count": 30,
     "metadata": {},
     "output_type": "execute_result"
    }
   ],
   "source": [
    "lr.fit(X_train,y1_train)"
   ]
  },
  {
   "cell_type": "code",
   "execution_count": 32,
   "id": "993cb09e",
   "metadata": {},
   "outputs": [
    {
     "name": "stdout",
     "output_type": "stream",
     "text": [
      "1.8952247583702704\n"
     ]
    }
   ],
   "source": [
    "# print the intercept\n",
    "print(lr.intercept_)"
   ]
  },
  {
   "cell_type": "code",
   "execution_count": 33,
   "id": "00ccd355",
   "metadata": {},
   "outputs": [
    {
     "name": "stdout",
     "output_type": "stream",
     "text": [
      "[0.68057448 0.07413056 0.07413056]\n"
     ]
    }
   ],
   "source": [
    "# print the intercept\n",
    "print(lr.coef_)"
   ]
  },
  {
   "cell_type": "code",
   "execution_count": 34,
   "id": "3bd4fa35",
   "metadata": {},
   "outputs": [
    {
     "ename": "AttributeError",
     "evalue": "'numpy.ndarray' object has no attribute 'columns'",
     "output_type": "error",
     "traceback": [
      "\u001b[1;31m---------------------------------------------------------------------------\u001b[0m",
      "\u001b[1;31mAttributeError\u001b[0m                            Traceback (most recent call last)",
      "\u001b[1;32m~\\AppData\\Local\\Temp/ipykernel_21176/2730864970.py\u001b[0m in \u001b[0;36m<module>\u001b[1;34m\u001b[0m\n\u001b[1;32m----> 1\u001b[1;33m \u001b[0mcoeff_df\u001b[0m \u001b[1;33m=\u001b[0m \u001b[0mpd\u001b[0m\u001b[1;33m.\u001b[0m\u001b[0mDataFrame\u001b[0m\u001b[1;33m(\u001b[0m\u001b[0mlr\u001b[0m\u001b[1;33m.\u001b[0m\u001b[0mcoef_\u001b[0m\u001b[1;33m,\u001b[0m\u001b[0mX_test\u001b[0m\u001b[1;33m.\u001b[0m\u001b[0mcolumns\u001b[0m\u001b[1;33m,\u001b[0m\u001b[0mcolumns\u001b[0m\u001b[1;33m=\u001b[0m\u001b[1;33m[\u001b[0m\u001b[1;34m'Coefficient'\u001b[0m\u001b[1;33m]\u001b[0m\u001b[1;33m)\u001b[0m\u001b[1;33m\u001b[0m\u001b[1;33m\u001b[0m\u001b[0m\n\u001b[0m\u001b[0;32m      2\u001b[0m \u001b[0mcoeff_df\u001b[0m\u001b[1;33m\u001b[0m\u001b[1;33m\u001b[0m\u001b[0m\n",
      "\u001b[1;31mAttributeError\u001b[0m: 'numpy.ndarray' object has no attribute 'columns'"
     ]
    }
   ],
   "source": [
    "coeff_df = pd.DataFrame(lr.coef_,X_test.columns,columns=['Coefficient'])\n",
    "coeff_df"
   ]
  },
  {
   "cell_type": "code",
   "execution_count": 35,
   "id": "0e8c4e5b",
   "metadata": {},
   "outputs": [
    {
     "name": "stdout",
     "output_type": "stream",
     "text": [
      "[11.52043724 13.14380979 11.9591475   7.69707395 15.27252335 10.56566643\n",
      "  9.98012175 16.15262374  9.00302502  8.7025697   7.41269793  8.83922445\n",
      " 10.81628366  7.55756583 11.90055639  5.89256832 12.1613533   6.70247123\n",
      " 14.66125952 14.02926995  8.37568188  7.61008382  9.83722039 11.88841016\n",
      "  6.77124202  7.34732037  8.3217372  12.56898464 13.82367092 15.18017345\n",
      "  3.35479673 12.3385533  15.29270923 11.42880068 16.41932027 10.65122988\n",
      "  7.05151147 12.50968019  9.5899964   9.68020627 10.13374264 17.06756264\n",
      " 10.7071411  14.11144017  6.51455169 13.45712469 10.55084032 14.49691909\n",
      " 22.64094703 16.99557211  9.2691817  11.24481422 15.08925023 16.68351041\n",
      " 12.9989419  13.35673513  7.88106041 10.74357978 10.25235154  7.53470006\n",
      " 10.99687689 10.26378442 16.07974638 12.64454189 11.61492717 10.10069719\n",
      " 12.43018986 17.4812671  13.61413881 11.87769062 11.76980127  6.93826234\n",
      "  8.31637743  6.55903002  8.47196487  4.83330138 10.1916204  10.71660744\n",
      "  9.20916391 15.66264869 11.78927381 13.52928871  7.8574813  10.94507224\n",
      " 12.16742641 18.44085782 15.49080846 12.24084363 10.62765077 15.70302046\n",
      " 15.68765449  8.98015926 13.73471425 14.98136088 13.75364693  9.07644224\n",
      " 13.19096801 14.5217514   8.0771931  13.36012836  8.21527453  6.47739966\n",
      "  9.90527784 11.42076103  7.75030528 14.92473631 13.49356337  5.82451087\n",
      "  9.25632213 18.32706884  6.71729734 14.63839375 12.56291153  8.49429078\n",
      " 12.37427864 12.21726452 10.6733823  12.05489063 10.35667418  8.59664688\n",
      " 10.23949197  8.97069291  8.46999833  8.54412889 11.19908269 13.6491508\n",
      "  9.61750859 11.88501694 13.46855757 12.3735653  11.3425239  12.23477052\n",
      " 10.89255425 11.49292505 18.60323171 19.60998066  5.85076986  8.21795442\n",
      " 11.58652815 13.74686048  8.38640142 11.00759643  7.66206195 10.06229196\n",
      " 15.10675623 10.67212911 11.93896161  9.90134476 12.67276743 14.23272895\n",
      " 15.19767945 13.3783477   7.22745827 14.27720729 10.88844768 14.56568988\n",
      "  4.91886482 10.87558811 10.72125387  8.55216854 13.32440302  6.9948869\n",
      " 11.74622216 19.06820096  9.49086004 13.22062024  8.31834398  9.20112425\n",
      " 10.59996509 13.02591423 13.46730437  6.73623003 11.04010203 14.86614521\n",
      "  8.49625732 15.05549144  9.34992523  7.49218826 12.88765931  9.36081826\n",
      "  8.95783334 10.77787843 12.74689799 10.72000067 13.57644693  9.78327571\n",
      "  9.48604013 11.6370796  19.58514835 13.32511636  8.60611322 12.86890011\n",
      "  6.01171707 14.76772219 10.31630241  8.19026874  8.71864901 14.66197286\n",
      "  7.2583637  12.7442181  14.84595932  6.928796    7.73154609 11.30893859\n",
      " 11.06636102  8.35352946 10.21805288 12.11955485  8.65398479  5.69446909\n",
      "  7.59739773 14.83917287  6.68639192 11.69227748 13.24151946 12.64579509\n",
      " 13.6666568   6.46936001  9.12092058  6.9012838   6.03743621 12.2211976\n",
      " 11.67351828 11.72264304 13.87422237  7.60740393 14.54675719  7.54952617\n",
      " 15.6451427  14.96063514 11.90323628 11.48810513 15.06424444 13.33583591\n",
      "  7.06097781  8.21259465 12.0514974  10.05353896 13.21722701 11.76033492\n",
      "  9.7772026  12.32640707 15.18892645  9.82507417  8.541449   10.80556412\n",
      "  7.6552755   9.04607667 13.1673889   9.17289872 13.20043435 10.2664643\n",
      " 13.49017014 16.60330673 14.36884385  5.05837295  8.54002232 17.62416845\n",
      " 12.28800185  9.78738229 10.97669101 15.8573547  11.79677361  9.90992427\n",
      " 11.08851345  7.6552755   7.70922018 11.29625251  7.10206292 11.41540126\n",
      "  7.59329116 16.35804928 15.40113844 11.55955581 14.25702141 13.79330535\n",
      "  4.68504026  9.3977968  13.64111115  7.34606717 16.96038663  9.03267725\n",
      " 14.5965953  12.57434441 11.0367088  15.87021427  7.92625209 15.86753438\n",
      " 11.67209159 14.55819008 13.82099104 10.13445598 10.47260319  5.7691395\n",
      " 11.02188269 17.93819669  9.45120162  9.89920473 13.10808445 11.15728424\n",
      " 18.04269282 10.94239235  5.73948728 10.51100841 10.75572601  9.9706554\n",
      "  4.79078958 12.42072352  8.55288189  7.90124629  6.20052344 13.33583591\n",
      "  9.68967261  8.15257686 14.80202084  7.73690586 12.19029218 14.32775874\n",
      "  4.051624   15.88164715 14.16538485 10.34738132 11.03867534 14.41260884\n",
      " 12.19904518 13.72935448  7.10545615 12.67008754 11.5945678  13.36406144\n",
      "  2.61152457 14.66607943  8.14185732 10.17822097  8.57914088 14.57640942\n",
      "  8.97801923 12.37695852 14.44850767  9.75362349 12.24352351  8.99159214\n",
      " 14.60338176  6.54545711  7.22477839  5.83523041 10.01245385  8.66273779\n",
      " 12.09526239  9.90188461 16.06492027 14.35598428  8.70310955 13.3708479\n",
      " 14.67411909 13.20436744  7.84676176  8.09327241 12.71795911 12.92070476\n",
      "  8.30959098 14.46387363 12.87551308 16.05009415  8.98141246 16.16530982\n",
      " 10.3089761   8.05361399  7.10670934 10.04067939  9.93225018  6.61958767\n",
      " 18.79739786 11.00705657 13.16202913 13.57573359 10.1242763   7.59471785\n",
      " 12.81424209 14.29132006 11.09387322  9.68217281 13.1411299  10.51172176\n",
      " 15.02369918  8.00431573 10.21733954 19.70823019 11.42754749 12.19297206\n",
      " 11.70995696 11.60135426  7.52058729 14.45780052  8.8460109  10.49421576\n",
      " 14.94027577  8.35067609 12.24959663 17.84727348 15.36826648  6.45650044\n",
      "  5.18430816 12.73261173 10.81021054 11.62154014  7.80157008  8.84119099\n",
      " 11.02384923  8.50375712  9.52997861  7.53005363  8.70721612 14.55283031\n",
      "  9.32509292  9.43494882  8.60004011 11.11565927  8.25707299 13.73614094\n",
      " 16.2617663   8.52465635  8.07915964 12.26316954  6.49222577  8.06772675\n",
      " 13.46927092  6.44238767 15.48134212 10.75233278  9.84258016 13.08450534\n",
      " 10.57709932 17.40784988 10.29879641  7.40394493 10.26110453 14.48334617\n",
      "  9.65323393  9.59535617  7.25371727 12.49360088 10.69106179 13.82170438\n",
      " 13.22133358  7.38036582  3.35622341 13.27921134 13.5730537  12.7954829\n",
      " 13.82706415 11.97200707 11.07976045  9.54945115 13.23883958 10.28468365\n",
      "  8.26921921  3.21064218  7.04954493 15.35808679 11.31769159  9.42494262\n",
      "  6.26179444 14.5965953  10.03192639 11.53936993  4.44639577 10.87630145\n",
      " 13.28063803  6.99970682  9.53873161  7.30426872  5.91078766 14.32775874\n",
      "  9.48282039  9.99959428 13.94763959 10.66266276  7.12296214 12.38910475\n",
      " 13.75954656 12.01380552  9.26650182  9.32169969  6.58314899 13.06021289\n",
      "  8.76652057 11.82035272  6.54009734 14.47869975  6.78267491  9.81167474\n",
      "  9.64305425 10.38167997 11.85733125 10.3700736  10.53530087  6.26715421\n",
      "  8.27797221  8.80421245 14.26506106 19.51566421  9.23006313 15.0110131\n",
      " 17.53646497  7.58525151  4.87509983 10.65462311 11.52919024  8.39658111\n",
      " 12.880333    9.82436082 15.6376429  15.32164811 16.60402008 21.38554741\n",
      " 11.04135522 12.22798406 15.19231967 15.5440398  11.62564672 10.92345967\n",
      "  8.92014146 11.5534827   3.90264954  8.40730065 13.06557266 13.66808349\n",
      " 12.64847497  9.62358171 10.79413123 13.01716124 10.87148153  7.93768497\n",
      " 11.42147437  9.23006313 12.08043628  9.5151525   7.56095905 10.86164882\n",
      "  9.38439737 11.35681015 11.67887805 13.24562603  7.51648072 12.04739083\n",
      " 12.56219818  9.31098015 14.62892741 12.74082487 12.37767187  8.96997957\n",
      " 11.4348738  13.38031424  7.42823739  6.27054743  6.1735511   6.93022268\n",
      " 13.61824538 12.68616685  8.39586777 14.36545062  6.67621223 18.55268026\n",
      "  7.95179774 10.15124864 15.01905276 11.68763105 13.20508078  6.48007955\n",
      "  7.62240353 10.02656662 11.09065348 13.87082914 12.02720494 11.65797883\n",
      "  9.99155463 10.89523413  5.64659752  8.84458422  8.87762967  8.09737898\n",
      "  8.48214455 16.43075316  6.46060701  6.15801165  6.85751881 13.5643007\n",
      "  9.76237649 15.68962103 10.57906586  7.99966931  8.23956699 14.40992895\n",
      " 17.81154814 12.09186916 15.38041271 15.41131813  9.75505018  9.17486526\n",
      " 12.7354651   8.66613101 13.32029645 10.99151712 13.54608136 10.93221267\n",
      "  3.13722496 18.40655917  6.11960643 13.55483436 10.76519235  9.8607995\n",
      " 10.30826276 16.44289939 12.43626297 16.57847442 10.82307011 12.28603531\n",
      " 11.45041325  8.36621554  4.23221723 11.58652815  7.53470006  9.84936662\n",
      "  5.68571609  9.28329447 10.12570298  8.15400354 16.96252666 19.17269709\n",
      " 13.42550592 15.5002748   8.24153353 12.20511829 10.56030666 14.16538485\n",
      "  9.32169969  7.95715751  9.61357551 10.85808211 16.38966805 10.7071411\n",
      "  9.38439737  7.09670315 13.66469026  7.91946563 13.45980457  8.771167\n",
      "  8.04950741 15.82305604  8.25028653 12.13848753 18.95441198  8.3479962\n",
      "  9.85472639  8.32245055 15.42685759 11.66869837  5.64052441 11.63297303\n",
      "  8.93425423 11.99826606 12.44304943 12.7792301  13.98407827  7.23621127\n",
      " 14.35008465 11.84732506 10.48278287  9.48282039  9.33991903 10.2852235\n",
      " 13.43354558 11.27660648 11.73353607  8.98355248  9.72468461  8.82457182\n",
      "  8.82850491 12.26852931  4.10342865 14.23612218  6.52045131  9.0582229\n",
      " 16.59187385  9.41065637  4.78471647 13.4631978   4.37905167 10.28807687\n",
      " 16.32643052 14.46387363 14.58516242  7.06759078 11.78998715 10.47938965\n",
      " 15.6026309   9.64662096  9.87491227 13.91673417  8.49822387 13.03466723\n",
      " 10.05353896  8.87423644 10.78341169 11.5447297  15.38505913 14.54265062\n",
      " 10.28807687  8.40533411 14.07571483 11.58866818  9.59196294 16.99414542\n",
      "  6.92896949  7.72333295  6.08048786 10.33184187 13.92745371  9.72397127\n",
      " 13.71113514 15.14444811 11.5184707   7.57239194 10.60067843  7.66206195\n",
      "  8.60950645  8.62165268 12.0414912  12.3723121 ]\n"
     ]
    }
   ],
   "source": [
    "# Making predictions using the model\n",
    "y1_pred = lr.predict(X_test)\n",
    "print(y1_pred)"
   ]
  },
  {
   "cell_type": "code",
   "execution_count": 36,
   "id": "ca53c131",
   "metadata": {},
   "outputs": [
    {
     "data": {
      "text/plain": [
       "0.6145325377617645"
      ]
     },
     "execution_count": 36,
     "metadata": {},
     "output_type": "execute_result"
    }
   ],
   "source": [
    "from sklearn.metrics import mean_squared_error, r2_score\n",
    "mse = mean_squared_error(y1_test, y1_pred)\n",
    "r_squared = r2_score(y1_test, y1_pred)\n",
    "r_squared\n"
   ]
  },
  {
   "cell_type": "code",
   "execution_count": 37,
   "id": "56598be9",
   "metadata": {},
   "outputs": [
    {
     "data": {
      "text/html": [
       "<div>\n",
       "<style scoped>\n",
       "    .dataframe tbody tr th:only-of-type {\n",
       "        vertical-align: middle;\n",
       "    }\n",
       "\n",
       "    .dataframe tbody tr th {\n",
       "        vertical-align: top;\n",
       "    }\n",
       "\n",
       "    .dataframe thead th {\n",
       "        text-align: right;\n",
       "    }\n",
       "</style>\n",
       "<table border=\"1\" class=\"dataframe\">\n",
       "  <thead>\n",
       "    <tr style=\"text-align: right;\">\n",
       "      <th></th>\n",
       "      <th>Actual</th>\n",
       "      <th>Predicted</th>\n",
       "    </tr>\n",
       "  </thead>\n",
       "  <tbody>\n",
       "    <tr>\n",
       "      <th>0</th>\n",
       "      <td>12.9</td>\n",
       "      <td>11.520437</td>\n",
       "    </tr>\n",
       "    <tr>\n",
       "      <th>1</th>\n",
       "      <td>9.8</td>\n",
       "      <td>13.143810</td>\n",
       "    </tr>\n",
       "    <tr>\n",
       "      <th>2</th>\n",
       "      <td>13.7</td>\n",
       "      <td>11.959147</td>\n",
       "    </tr>\n",
       "    <tr>\n",
       "      <th>3</th>\n",
       "      <td>9.1</td>\n",
       "      <td>7.697074</td>\n",
       "    </tr>\n",
       "    <tr>\n",
       "      <th>4</th>\n",
       "      <td>18.5</td>\n",
       "      <td>15.272523</td>\n",
       "    </tr>\n",
       "    <tr>\n",
       "      <th>...</th>\n",
       "      <td>...</td>\n",
       "      <td>...</td>\n",
       "    </tr>\n",
       "    <tr>\n",
       "      <th>725</th>\n",
       "      <td>9.1</td>\n",
       "      <td>7.662062</td>\n",
       "    </tr>\n",
       "    <tr>\n",
       "      <th>726</th>\n",
       "      <td>9.6</td>\n",
       "      <td>8.609506</td>\n",
       "    </tr>\n",
       "    <tr>\n",
       "      <th>727</th>\n",
       "      <td>11.2</td>\n",
       "      <td>8.621653</td>\n",
       "    </tr>\n",
       "    <tr>\n",
       "      <th>728</th>\n",
       "      <td>11.4</td>\n",
       "      <td>12.041491</td>\n",
       "    </tr>\n",
       "    <tr>\n",
       "      <th>729</th>\n",
       "      <td>12.0</td>\n",
       "      <td>12.372312</td>\n",
       "    </tr>\n",
       "  </tbody>\n",
       "</table>\n",
       "<p>730 rows × 2 columns</p>\n",
       "</div>"
      ],
      "text/plain": [
       "     Actual  Predicted\n",
       "0      12.9  11.520437\n",
       "1       9.8  13.143810\n",
       "2      13.7  11.959147\n",
       "3       9.1   7.697074\n",
       "4      18.5  15.272523\n",
       "..      ...        ...\n",
       "725     9.1   7.662062\n",
       "726     9.6   8.609506\n",
       "727    11.2   8.621653\n",
       "728    11.4  12.041491\n",
       "729    12.0  12.372312\n",
       "\n",
       "[730 rows x 2 columns]"
      ]
     },
     "execution_count": 37,
     "metadata": {},
     "output_type": "execute_result"
    }
   ],
   "source": [
    "df1 = pd.DataFrame({'Actual': y1_test, 'Predicted': y1_pred})\n",
    "df1"
   ]
  },
  {
   "cell_type": "code",
   "execution_count": null,
   "id": "4b8cc20f",
   "metadata": {},
   "outputs": [],
   "source": []
  }
 ],
 "metadata": {
  "kernelspec": {
   "display_name": "Python 3 (ipykernel)",
   "language": "python",
   "name": "python3"
  },
  "language_info": {
   "codemirror_mode": {
    "name": "ipython",
    "version": 3
   },
   "file_extension": ".py",
   "mimetype": "text/x-python",
   "name": "python",
   "nbconvert_exporter": "python",
   "pygments_lexer": "ipython3",
   "version": "3.9.7"
  },
  "varInspector": {
   "cols": {
    "lenName": 16,
    "lenType": 16,
    "lenVar": 40
   },
   "kernels_config": {
    "python": {
     "delete_cmd_postfix": "",
     "delete_cmd_prefix": "del ",
     "library": "var_list.py",
     "varRefreshCmd": "print(var_dic_list())"
    },
    "r": {
     "delete_cmd_postfix": ") ",
     "delete_cmd_prefix": "rm(",
     "library": "var_list.r",
     "varRefreshCmd": "cat(var_dic_list()) "
    }
   },
   "types_to_exclude": [
    "module",
    "function",
    "builtin_function_or_method",
    "instance",
    "_Feature"
   ],
   "window_display": false
  }
 },
 "nbformat": 4,
 "nbformat_minor": 5
}
